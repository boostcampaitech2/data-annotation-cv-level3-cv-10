{
 "cells": [
  {
   "cell_type": "code",
   "execution_count": 1,
   "metadata": {},
   "outputs": [],
   "source": [
    "%matplotlib inline\n",
    "import json\n",
    "import pandas as pd\n",
    "from pathlib import Path"
   ]
  },
  {
   "cell_type": "code",
   "execution_count": 2,
   "metadata": {},
   "outputs": [
    {
     "name": "stdout",
     "output_type": "stream",
     "text": [
      "                                                                                     images\n",
      "0N8A5660.jpg                              {'paragraphs': {}, 'words': {'0': {'points': [...\n",
      "14B9AA34-3F88-40E2-A3E8-6A2ED0CAE7E1.JPG  {'paragraphs': {}, 'words': {'0': {'points': [...\n",
      "1559458822576-3.jpg                       {'paragraphs': {}, 'words': {}, 'chars': {}, '...\n",
      "1595697184898-29.jpg                      {'paragraphs': {}, 'words': {'0': {'points': [...\n",
      "1604828077798-0.jpg                       {'paragraphs': {}, 'words': {'0': {'points': [...\n",
      "1607660335218-2.jpg                       {'paragraphs': {}, 'words': {'0': {'points': [...\n",
      "1607662862521-14.jpg                      {'paragraphs': {}, 'words': {}, 'chars': {}, '...\n",
      "1607662862521-9.jpg                       {'paragraphs': {}, 'words': {'0': {'points': [...\n",
      "1611555922111.jpg                         {'paragraphs': {}, 'words': {'0': {'points': [...\n",
      "1613386234855-7.jpg                       {'paragraphs': {}, 'words': {'0': {'points': [...\n"
     ]
    }
   ],
   "source": [
    "annotation_json_path = '/opt/ml/input/revised/annotation.json'\n",
    "annotation_json = None\n",
    "with Path(annotation_json_path).open(encoding='utf8') as handle:\n",
    "    annotation_json = json.load(handle)\n",
    "\n",
    "annotation_pd = pd.DataFrame(annotation_json)\n",
    "\n",
    "print(annotation_pd.head(10))"
   ]
  },
  {
   "cell_type": "code",
   "execution_count": 4,
   "metadata": {},
   "outputs": [
    {
     "name": "stdout",
     "output_type": "stream",
     "text": [
      "                                                   images\n",
      "count                                                1650\n",
      "unique                                               1542\n",
      "top     {'paragraphs': {}, 'words': {}, 'chars': {}, '...\n",
      "freq                                                  109\n",
      "                                                   images\n",
      "count                                                 719\n",
      "unique                                                719\n",
      "top     {'paragraphs': {}, 'words': {'0': {'points': [...\n",
      "freq                                                    1\n"
     ]
    }
   ],
   "source": [
    "def has_4_coordinates(value:list) -> bool:\n",
    "    result = True\n",
    "    if(len(value) != 4):\n",
    "       result = False\n",
    "    \n",
    "    return result\n",
    "\n",
    "def has_minus_coordinates(value:list) -> bool:\n",
    "    result = True\n",
    "    value_flat = sum(value, [])\n",
    "    if(sum(n < 0 for n in value_flat) > 0):\n",
    "        result = False\n",
    "\n",
    "    return result\n",
    "\n",
    "\n",
    "def has_text(value:str) -> bool:\n",
    "    result = True\n",
    "    if(not value):\n",
    "        result = False\n",
    "    \n",
    "    return result\n",
    "\n",
    "\n",
    "def has_blank(value:str) -> bool:\n",
    "    result = True\n",
    "    if(' ' in value):\n",
    "        result = False\n",
    "    \n",
    "    return result\n",
    "\n",
    "\n",
    "annotation_modified_pd = annotation_pd.copy()\n",
    "for index, row in annotation_pd.iterrows():\n",
    "    #print(row.index)\n",
    "    paragraphs_index = row['images']\n",
    "    paragraphs = paragraphs_index['paragraphs']\n",
    "    words = paragraphs_index['words']\n",
    "    chars = paragraphs_index['chars']\n",
    "    tags = paragraphs_index['tags']\n",
    "    releations = paragraphs_index['relations']\n",
    "    license_tag = paragraphs_index['license_tag']\n",
    "    is_good_filter_result = True\n",
    "\n",
    "    #words(좌표)가 0일 경우도 있음\n",
    "    if(len(words) <= 0):\n",
    "        is_good_filter_result = False\n",
    "    else:\n",
    "        for key, value in words.items():\n",
    "            points = value['points']\n",
    "            orientation = value['orientation']\n",
    "            transcription = value['transcription']\n",
    "            word_tags = value['word_tags']\n",
    "            language = value['language']\n",
    "            illegibility = value['illegibility']\n",
    "            \n",
    "            if( \n",
    "            ((has_4_coordinates(points) == True) and\n",
    "            (has_minus_coordinates(points) == True) and\n",
    "            (has_text(transcription) == True) and\n",
    "            (has_blank(transcription) == True))\n",
    "            != True):\n",
    "                is_good_filter_result = False\n",
    "            \n",
    "            if(is_good_filter_result == False):\n",
    "                break\n",
    "    \n",
    "    if(is_good_filter_result == False):\n",
    "        annotation_modified_pd = annotation_modified_pd.drop(index)\n",
    "\n",
    "\n",
    "print(annotation_pd.describe())\n",
    "print(annotation_modified_pd.describe())\n",
    "\n",
    "annotation_modified_pd.to_json(\"/opt/ml/input/revised/annotation_modified.json\", orient='columns')"
   ]
  }
 ],
 "metadata": {
  "interpreter": {
   "hash": "d4d1e4263499bec80672ea0156c357c1ee493ec2b1c70f0acce89fc37c4a6abe"
  },
  "kernelspec": {
   "display_name": "Python 3.8.12 64-bit ('base': conda)",
   "language": "python",
   "name": "python3"
  },
  "language_info": {
   "codemirror_mode": {
    "name": "ipython",
    "version": 3
   },
   "file_extension": ".py",
   "mimetype": "text/x-python",
   "name": "python",
   "nbconvert_exporter": "python",
   "pygments_lexer": "ipython3",
   "version": "3.8.12"
  },
  "orig_nbformat": 4
 },
 "nbformat": 4,
 "nbformat_minor": 2
}
